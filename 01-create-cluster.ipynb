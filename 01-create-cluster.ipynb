{
 "cells": [
  {
   "cell_type": "code",
   "execution_count": 1,
   "id": "50ea7bb6-d5c9-4b06-8e53-aaeba563aeeb",
   "metadata": {},
   "outputs": [
    {
     "name": "stdout",
     "output_type": "stream",
     "text": [
      "/home/yinchi/go/bin/kind\n"
     ]
    }
   ],
   "source": [
    "which kind"
   ]
  },
  {
   "cell_type": "code",
   "execution_count": 2,
   "id": "5cbbc6ec-296c-4fc2-a200-78551566e5b6",
   "metadata": {},
   "outputs": [
    {
     "name": "stdout",
     "output_type": "stream",
     "text": [
      "Creating cluster \"kind\" ...\n",
      " \u001b[32m✓\u001b[0m Ensuring node image (kindest/node:v1.30.0) 🖼7l\n",
      " \u001b[32m✓\u001b[0m Preparing nodes 📦 7l\n",
      " \u001b[32m✓\u001b[0m Writing configuration 📜7l\n",
      " \u001b[32m✓\u001b[0m Starting control-plane 🕹️7l\n",
      " \u001b[32m✓\u001b[0m Installing CNI 🔌7l\n",
      " \u001b[32m✓\u001b[0m Installing StorageClass 💾7l\n",
      "Set kubectl context to \"kind-kind\"\n",
      "You can now use your cluster with:\n",
      "\n",
      "kubectl cluster-info --context kind-kind\n",
      "\n",
      "Have a question, bug, or feature request? Let us know! https://kind.sigs.k8s.io/#community 🙂\n"
     ]
    }
   ],
   "source": [
    "kind create cluster"
   ]
  },
  {
   "cell_type": "code",
   "execution_count": 3,
   "id": "a3322844-0b61-4db6-a267-869478e33d89",
   "metadata": {},
   "outputs": [
    {
     "name": "stdout",
     "output_type": "stream",
     "text": [
      "CONTAINER ID   IMAGE                  COMMAND                  CREATED          STATUS          PORTS                       NAMES\n",
      "f3f5b24587b5   kindest/node:v1.30.0   \"/usr/local/bin/entr…\"   24 seconds ago   Up 22 seconds   127.0.0.1:36067->6443/tcp   kind-control-plane\n"
     ]
    }
   ],
   "source": [
    "docker ps"
   ]
  },
  {
   "cell_type": "code",
   "execution_count": 4,
   "id": "20a18d78-8b18-4919-9a91-1b38638ff881",
   "metadata": {},
   "outputs": [
    {
     "name": "stdout",
     "output_type": "stream",
     "text": [
      "INFO: ensuring we can execute mount/umount even with userns-remap\n",
      "INFO: remounting /sys read-only\n",
      "INFO: making mounts shared\n",
      "INFO: detected cgroup v1\n",
      "INFO: detected cgroupns\n",
      "INFO: removing misc controller\n",
      "INFO: clearing and regenerating /etc/machine-id\n",
      "Initializing machine ID from random generator.\n",
      "INFO: setting iptables to detected mode: legacy\n",
      "INFO: detected IPv4 address: 192.168.144.2\n",
      "INFO: detected IPv6 address: fc00:f853:ccd:e793::2\n",
      "INFO: starting init\n",
      "systemd 252.22-1~deb12u1 running in system mode (+PAM +AUDIT +SELINUX +APPARMOR +IMA +SMACK +SECCOMP +GCRYPT -GNUTLS +OPENSSL +ACL +BLKID +CURL +ELFUTILS +FIDO2 +IDN2 -IDN +IPTC +KMOD +LIBCRYPTSETUP +LIBFDISK +PCRE2 -PWQUALITY +P11KIT +QRENCODE +TPM2 +BZIP2 +LZ4 +XZ +ZLIB +ZSTD -BPF_FRAMEWORK -XKBCOMMON +UTMP +SYSVINIT default-hierarchy=unified)\n",
      "Detected virtualization wsl.\n",
      "Detected architecture x86-64.\n",
      "\u001b[0;1;31mFailed to create symlink /sys/fs/cgroup/cpuacct: File exists\u001b[0m\n",
      "\u001b[0;1;31mFailed to create symlink /sys/fs/cgroup/cpu: File exists\u001b[0m\n",
      "\u001b[0;1;31mFailed to create symlink /sys/fs/cgroup/net_prio: File exists\u001b[0m\n",
      "\u001b[0;1;31mFailed to create symlink /sys/fs/cgroup/net_cls: File exists\u001b[0m\n",
      "\n",
      "Welcome to \u001b[1mDebian GNU/Linux 12 (bookworm)\u001b[0m!\n",
      "\n",
      "Queued start job for default target graphical.target.\n",
      "[\u001b[0;32m  OK  \u001b[0m] Created slice \u001b[0;1;39mkubelet.slic… used to run Kubernetes / Kubelet.\n",
      "[\u001b[0;32m  OK  \u001b[0m] Created slice \u001b[0;1;39msystem-modpr…lice\u001b[0m - Slice /system/modprobe.\n",
      "[\u001b[0;32m  OK  \u001b[0m] Started \u001b[0;1;39msystemd-ask-passwo…quests to Console Directory Watch.\n",
      "[\u001b[0;32m  OK  \u001b[0m] Set up automount \u001b[0;1;39mproc-sys-…rmats File System Automount Point.\n",
      "[\u001b[0;32m  OK  \u001b[0m] Reached target \u001b[0;1;39mcryptsetup.…get\u001b[0m - Local Encrypted Volumes.\n",
      "[\u001b[0;32m  OK  \u001b[0m] Reached target \u001b[0;1;39mintegrityse…Local Integrity Protected Volumes.\n",
      "[\u001b[0;32m  OK  \u001b[0m] Reached target \u001b[0;1;39mpaths.target\u001b[0m - Path Units.\n",
      "[\u001b[0;32m  OK  \u001b[0m] Reached target \u001b[0;1;39mslices.target\u001b[0m - Slice Units.\n",
      "[\u001b[0;32m  OK  \u001b[0m] Reached target \u001b[0;1;39mswap.target\u001b[0m - Swaps.\n",
      "[\u001b[0;32m  OK  \u001b[0m] Reached target \u001b[0;1;39mveritysetup… - Local Verity Protected Volumes.\n",
      "[\u001b[0;32m  OK  \u001b[0m] Listening on \u001b[0;1;39msystemd-journ…socket\u001b[0m - Journal Audit Socket.\n",
      "[\u001b[0;32m  OK  \u001b[0m] Listening on \u001b[0;1;39msystemd-journ…t\u001b[0m - Journal Socket (/dev/log).\n",
      "[\u001b[0;32m  OK  \u001b[0m] Listening on \u001b[0;1;39msystemd-journald.socket\u001b[0m - Journal Socket.\n",
      "[\u001b[0;32m  OK  \u001b[0m] Reached target \u001b[0;1;39msockets.target\u001b[0m - Socket Units.\n",
      "         Mounting \u001b[0;1;39mdev-hugepages.mount\u001b[0m - Huge Pages File System...\n",
      "         Mounting \u001b[0;1;39msys-kernel-debug.…\u001b[0m - Kernel Debug File System...\n",
      "         Mounting \u001b[0;1;39msys-kernel-tracin…\u001b[0m - Kernel Trace File System...\n",
      "         Starting \u001b[0;1;39mmodprobe@configfs…m - Load Kernel Module configfs...\n",
      "         Starting \u001b[0;1;39mmodprobe@dm_mod.s…[0m - Load Kernel Module dm_mod...\n",
      "         Starting \u001b[0;1;39mmodprobe@fuse.ser…e\u001b[0m - Load Kernel Module fuse...\n",
      "         Starting \u001b[0;1;39mmodprobe@loop.ser…e\u001b[0m - Load Kernel Module loop...\n",
      "         Starting \u001b[0;1;39msystemd-journald.service\u001b[0m - Journal Service...\n",
      "         Starting \u001b[0;1;39msystemd-modules-l…rvice\u001b[0m - Load Kernel Modules...\n",
      "         Starting \u001b[0;1;39msystemd-remount-f…nt Root and Kernel File Systems...\n",
      "[\u001b[0;32m  OK  \u001b[0m] Mounted \u001b[0;1;39mdev-hugepages.mount\u001b[0m - Huge Pages File System.\n",
      "[\u001b[0;32m  OK  \u001b[0m] Mounted \u001b[0;1;39msys-kernel-debug.m…nt\u001b[0m - Kernel Debug File System.\n",
      "[\u001b[0;32m  OK  \u001b[0m] Mounted \u001b[0;1;39msys-kernel-tracing…nt\u001b[0m - Kernel Trace File System.\n",
      "modprobe@configfs.service: Deactivated successfully.\n",
      "[\u001b[0;32m  OK  \u001b[0m] Finished \u001b[0;1;39mmodprobe@configfs…[0m - Load Kernel Module configfs.\n",
      "modprobe@dm_mod.service: Deactivated successfully.\n",
      "[\u001b[0;32m  OK  \u001b[0m] Finished \u001b[0;1;39mmodprobe@dm_mod.s…e\u001b[0m - Load Kernel Module dm_mod.\n",
      "modprobe@fuse.service: Deactivated successfully.\n",
      "[\u001b[0;32m  OK  \u001b[0m] Finished \u001b[0;1;39mmodprobe@fuse.service\u001b[0m - Load Kernel Module fuse.\n",
      "modprobe@loop.service: Deactivated successfully.\n",
      "[\u001b[0;32m  OK  \u001b[0m] Finished \u001b[0;1;39mmodprobe@loop.service\u001b[0m - Load Kernel Module loop.\n",
      "[\u001b[0;32m  OK  \u001b[0m] Finished \u001b[0;1;39msystemd-remount-f…ount Root and Kernel File Systems.\n",
      "         Mounting \u001b[0;1;39msys-fs-fuse-conne…\u001b[0m - FUSE Control File System...\n",
      "         Starting \u001b[0;1;39msystemd-sysusers.…rvice\u001b[0m - Create System Users...\n",
      "         Starting \u001b[0;1;39msystemd-update-ut…rd System Boot/Shutdown in UTMP...\n",
      "[\u001b[0;32m  OK  \u001b[0m] Finished \u001b[0;1;39msystemd-modules-l…service\u001b[0m - Load Kernel Modules.\n",
      "[\u001b[0;32m  OK  \u001b[0m] Mounted \u001b[0;1;39msys-fs-fuse-connec…nt\u001b[0m - FUSE Control File System.\n",
      "         Starting \u001b[0;1;39msystemd-sysctl.se…ce\u001b[0m - Apply Kernel Variables...\n",
      "[\u001b[0;32m  OK  \u001b[0m] Started \u001b[0;1;39msystemd-journald.service\u001b[0m - Journal Service.\n",
      "[\u001b[0;32m  OK  \u001b[0m] Finished \u001b[0;1;39msystemd-sysusers.service\u001b[0m - Create System Users.\n",
      "         Starting \u001b[0;1;39msystemd-journal-f…h Journal to Persistent Storage...\n",
      "         Starting \u001b[0;1;39msystemd-tmpfiles-…ate Static Device Nodes in /dev...\n",
      "[\u001b[0;32m  OK  \u001b[0m] Finished \u001b[0;1;39msystemd-update-ut…cord System Boot/Shutdown in UTMP.\n",
      "[\u001b[0;32m  OK  \u001b[0m] Finished \u001b[0;1;39msystemd-sysctl.service\u001b[0m - Apply Kernel Variables.\n",
      "[\u001b[0;32m  OK  \u001b[0m] Finished \u001b[0;1;39msystemd-journal-f…ush Journal to Persistent Storage.\n",
      "[\u001b[0;32m  OK  \u001b[0m] Finished \u001b[0;1;39msystemd-tmpfiles-…reate Static Device Nodes in /dev.\n",
      "[\u001b[0;32m  OK  \u001b[0m] Reached target \u001b[0;1;39mlocal-fs-pr…reparation for Local File Systems.\n",
      "[\u001b[0;32m  OK  \u001b[0m] Reached target \u001b[0;1;39mlocal-fs.target\u001b[0m - Local File Systems.\n",
      "[\u001b[0;32m  OK  \u001b[0m] Reached target \u001b[0;1;39msysinit.target\u001b[0m - System Initialization.\n",
      "[\u001b[0;32m  OK  \u001b[0m] Started \u001b[0;1;39msystemd-tmpfiles-c… Cleanup of Temporary Directories.\n",
      "[\u001b[0;32m  OK  \u001b[0m] Reached target \u001b[0;1;39mtimers.target\u001b[0m - Timer Units.\n",
      "[\u001b[0;32m  OK  \u001b[0m] Reached target \u001b[0;1;39mbasic.target\u001b[0m - Basic System.\n",
      "         Starting \u001b[0;1;39mundo-mount-hacks.…ice\u001b[0m - Undo KIND mount hacks...\n",
      "[\u001b[0;32m  OK  \u001b[0m] Finished \u001b[0;1;39mundo-mount-hacks.…rvice\u001b[0m - Undo KIND mount hacks.\n",
      "         Starting \u001b[0;1;39mcontainerd.servic… - containerd container runtime...\n",
      "[\u001b[0;32m  OK  \u001b[0m] Started \u001b[0;1;39mcontainerd.service…0m - containerd container runtime.\n",
      "[\u001b[0;32m  OK  \u001b[0m] Reached target \u001b[0;1;39mmulti-user.target\u001b[0m - Multi-User System.\n",
      "[\u001b[0;32m  OK  \u001b[0m] Reached target \u001b[0;1;39mgraphical.target\u001b[0m - Graphical Interface.\n",
      "         Starting \u001b[0;1;39msystemd-update-ut… Record Runlevel Change in UTMP...\n",
      "[\u001b[0;32m  OK  \u001b[0m] Finished \u001b[0;1;39msystemd-update-ut… - Record Runlevel Change in UTMP.\n"
     ]
    }
   ],
   "source": [
    "docker logs kind-control-plane"
   ]
  },
  {
   "cell_type": "code",
   "execution_count": 5,
   "id": "486c2d7d-827f-4077-ac05-e40c515b149c",
   "metadata": {},
   "outputs": [
    {
     "name": "stdout",
     "output_type": "stream",
     "text": [
      "CURRENT   NAME        CLUSTER     AUTHINFO    NAMESPACE\n",
      "*         kind-kind   kind-kind   kind-kind   \n"
     ]
    }
   ],
   "source": [
    "kubectl config get-contexts"
   ]
  },
  {
   "cell_type": "code",
   "execution_count": 7,
   "id": "41c06f4a-6e05-4904-b1ea-62917cc574f0",
   "metadata": {},
   "outputs": [
    {
     "name": "stdout",
     "output_type": "stream",
     "text": [
      "kind-kind\n"
     ]
    }
   ],
   "source": [
    "kubectl config current-context"
   ]
  },
  {
   "cell_type": "code",
   "execution_count": 8,
   "id": "5aa8008d-b857-447a-86d2-04c0465ce3fa",
   "metadata": {},
   "outputs": [
    {
     "name": "stdout",
     "output_type": "stream",
     "text": [
      "\u001b[0;32mKubernetes control plane\u001b[0m is running at \u001b[0;33mhttps://127.0.0.1:36067\u001b[0m\n",
      "\u001b[0;32mCoreDNS\u001b[0m is running at \u001b[0;33mhttps://127.0.0.1:36067/api/v1/namespaces/kube-system/services/kube-dns:dns/proxy\u001b[0m\n",
      "\n",
      "To further debug and diagnose cluster problems, use 'kubectl cluster-info dump'.\n"
     ]
    }
   ],
   "source": [
    "kubectl cluster-info"
   ]
  },
  {
   "cell_type": "code",
   "execution_count": 9,
   "id": "b23b03b7-914e-471b-bcfe-a3cd45ba1902",
   "metadata": {},
   "outputs": [
    {
     "name": "stdout",
     "output_type": "stream",
     "text": [
      "NAME                 STATUS   AGE\n",
      "default              Active   2m31s\n",
      "kube-node-lease      Active   2m31s\n",
      "kube-public          Active   2m31s\n",
      "kube-system          Active   2m31s\n",
      "local-path-storage   Active   2m27s\n"
     ]
    }
   ],
   "source": [
    "kubectl get namespace"
   ]
  },
  {
   "cell_type": "code",
   "execution_count": 10,
   "id": "447667b1-1b04-48af-b371-892bd30be847",
   "metadata": {},
   "outputs": [
    {
     "name": "stdout",
     "output_type": "stream",
     "text": [
      "apiVersion: v1\n",
      "kind: Namespace\n",
      "metadata:\n",
      "  creationTimestamp: \"2024-07-21T08:46:33Z\"\n",
      "  labels:\n",
      "    kubernetes.io/metadata.name: default\n",
      "  name: default\n",
      "  resourceVersion: \"36\"\n",
      "  uid: 040a5072-f906-4bf0-ad81-1418f7128cb0\n",
      "spec:\n",
      "  finalizers:\n",
      "  - kubernetes\n",
      "status:\n",
      "  phase: Active\n"
     ]
    }
   ],
   "source": [
    "kubectl get namespace default -o yaml"
   ]
  },
  {
   "cell_type": "code",
   "execution_count": 12,
   "id": "0b072d1d-0577-4818-bd88-ca908a876efd",
   "metadata": {},
   "outputs": [
    {
     "name": "stdout",
     "output_type": "stream",
     "text": [
      "kind-control-plane\n"
     ]
    }
   ],
   "source": [
    "docker stop kind-control-plane"
   ]
  },
  {
   "cell_type": "code",
   "execution_count": 13,
   "id": "ee9d8f6e-95a9-44d0-be91-082f4917b62e",
   "metadata": {},
   "outputs": [
    {
     "name": "stdout",
     "output_type": "stream",
     "text": [
      "kind-control-plane\n"
     ]
    }
   ],
   "source": [
    "docker start kind-control-plane"
   ]
  },
  {
   "cell_type": "code",
   "execution_count": 14,
   "id": "098fb005-22ef-4cf9-bbab-30c564054d64",
   "metadata": {},
   "outputs": [
    {
     "name": "stdout",
     "output_type": "stream",
     "text": [
      "Deleting cluster \"kind\" ...\n",
      "Deleted nodes: [\"kind-control-plane\"]\n"
     ]
    }
   ],
   "source": [
    "kind delete cluster"
   ]
  },
  {
   "cell_type": "code",
   "execution_count": null,
   "id": "df306c25-b763-4b5c-869f-c05de4e67861",
   "metadata": {},
   "outputs": [],
   "source": []
  }
 ],
 "metadata": {
  "kernelspec": {
   "display_name": "Bash",
   "language": "bash",
   "name": "bash"
  },
  "language_info": {
   "codemirror_mode": "shell",
   "file_extension": ".sh",
   "mimetype": "text/x-sh",
   "name": "bash"
  }
 },
 "nbformat": 4,
 "nbformat_minor": 5
}

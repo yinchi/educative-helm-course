{
 "cells": [
  {
   "cell_type": "markdown",
   "id": "7fea8ba0-2c16-4005-9070-b73ab78300ce",
   "metadata": {},
   "source": [
    "## Reset the cluster"
   ]
  },
  {
   "cell_type": "code",
   "execution_count": 1,
   "id": "7919066b-f72e-43bf-ae6d-b022abe85c05",
   "metadata": {},
   "outputs": [
    {
     "name": "stdout",
     "output_type": "stream",
     "text": [
      "Deleting cluster \"kind\" ...\n",
      "Deleted nodes: [\"kind-control-plane\"]\n"
     ]
    }
   ],
   "source": [
    "kind delete cluster"
   ]
  },
  {
   "cell_type": "code",
   "execution_count": 2,
   "id": "0e9d8b3a-eef7-4eaa-8222-0b9de73a9671",
   "metadata": {},
   "outputs": [
    {
     "name": "stdout",
     "output_type": "stream",
     "text": [
      "Creating cluster \"kind\" ...\n",
      " \u001b[32m✓\u001b[0m Ensuring node image (kindest/node:v1.30.0) 🖼\n",
      " \u001b[32m✓\u001b[0m Preparing nodes 📦 7l\n",
      " \u001b[32m✓\u001b[0m Writing configuration 📜7l\n",
      " \u001b[32m✓\u001b[0m Starting control-plane 🕹️7l\n",
      " \u001b[32m✓\u001b[0m Installing CNI 🔌7l\n",
      " \u001b[32m✓\u001b[0m Installing StorageClass 💾7l\n",
      "Set kubectl context to \"kind-kind\"\n",
      "You can now use your cluster with:\n",
      "\n",
      "kubectl cluster-info --context kind-kind\n",
      "\n",
      "Thanks for using kind! 😊\n"
     ]
    }
   ],
   "source": [
    "kind create cluster"
   ]
  },
  {
   "cell_type": "markdown",
   "id": "abdb8942-71c1-4979-a117-9687b6da7981",
   "metadata": {},
   "source": [
    "## Install the dashboard"
   ]
  },
  {
   "cell_type": "code",
   "execution_count": 3,
   "id": "23c241fb-c6be-478c-8c35-e18ffbf7877e",
   "metadata": {},
   "outputs": [
    {
     "name": "stdout",
     "output_type": "stream",
     "text": [
      "\"kubernetes-dashboard\" already exists with the same configuration, skipping\n"
     ]
    }
   ],
   "source": [
    "helm repo add kubernetes-dashboard https://kubernetes.github.io/dashboard/"
   ]
  },
  {
   "cell_type": "code",
   "execution_count": 4,
   "id": "7bfb6c14-5109-4cf6-8782-dd3201543395",
   "metadata": {},
   "outputs": [
    {
     "name": "stdout",
     "output_type": "stream",
     "text": [
      "NAME                \tURL                                    \n",
      "kubernetes-dashboard\thttps://kubernetes.github.io/dashboard/\n"
     ]
    }
   ],
   "source": [
    "helm repo list"
   ]
  },
  {
   "cell_type": "code",
   "execution_count": 5,
   "id": "18c9f589-9892-4c04-a06e-a847b58e4ca3",
   "metadata": {},
   "outputs": [
    {
     "name": "stdout",
     "output_type": "stream",
     "text": [
      "NAME: dashboard\n",
      "LAST DEPLOYED: Sun Jul 21 11:28:08 2024\n",
      "NAMESPACE: monitoring\n",
      "STATUS: deployed\n",
      "REVISION: 1\n",
      "TEST SUITE: None\n",
      "NOTES:\n",
      "*************************************************************************************************\n",
      "*** PLEASE BE PATIENT: Kubernetes Dashboard may need a few minutes to get up and become ready ***\n",
      "*************************************************************************************************\n",
      "\n",
      "Congratulations! You have just installed Kubernetes Dashboard in your cluster.\n",
      "\n",
      "To access Dashboard run:\n",
      "  kubectl -n kubernetes-dashboard port-forward svc/kubernetes-dashboard-kong-proxy 8443:443\n",
      "\n",
      "NOTE: In case port-forward command does not work, make sure that kong service name is correct.\n",
      "      Check the services in Kubernetes Dashboard namespace using:\n",
      "        kubectl -n monitoring get svc\n",
      "\n",
      "Dashboard will be available at:\n",
      "  https://localhost:8443\n"
     ]
    }
   ],
   "source": [
    "helm install dashboard kubernetes-dashboard/kubernetes-dashboard -n monitoring --create-namespace"
   ]
  },
  {
   "cell_type": "code",
   "execution_count": 6,
   "id": "887bc3a0-1f82-4762-bcd2-f1bc6f917ce4",
   "metadata": {},
   "outputs": [
    {
     "name": "stdout",
     "output_type": "stream",
     "text": [
      "NAME     \tNAMESPACE \tREVISION\tUPDATED                                \tSTATUS  \tCHART                     \tAPP VERSION\n",
      "dashboard\tmonitoring\t1       \t2024-07-21 11:28:08.921614551 +0100 BST\tdeployed\tkubernetes-dashboard-7.5.0\t           \n"
     ]
    }
   ],
   "source": [
    "helm list -n monitoring"
   ]
  },
  {
   "cell_type": "code",
   "execution_count": 7,
   "id": "39feef34-d605-4018-9cd5-c41083ad6553",
   "metadata": {},
   "outputs": [
    {
     "name": "stdout",
     "output_type": "stream",
     "text": [
      "NAME                                                              READY   STATUS              RESTARTS   AGE\n",
      "dashboard-kong-68687498db-6z74f                                   0/1     Init:0/1            0          2s\n",
      "dashboard-kubernetes-dashboard-api-55874568c8-hwbv2               0/1     ContainerCreating   0          2s\n",
      "dashboard-kubernetes-dashboard-auth-64f65c7d7-v54hl               0/1     ContainerCreating   0          2s\n",
      "dashboard-kubernetes-dashboard-metrics-scraper-689c7b5b74-kmlfk   0/1     ContainerCreating   0          2s\n",
      "dashboard-kubernetes-dashboard-web-548b8b8859-cvhhs               0/1     ContainerCreating   0          2s\n"
     ]
    }
   ],
   "source": [
    "sleep 10\n",
    "kubectl get pods -n monitoring"
   ]
  },
  {
   "cell_type": "code",
   "execution_count": 8,
   "id": "e2d496a3-a662-4450-9c18-458d439551b6",
   "metadata": {},
   "outputs": [
    {
     "name": "stdout",
     "output_type": "stream",
     "text": [
      "NAME                                             READY   UP-TO-DATE   AVAILABLE   AGE\n",
      "dashboard-kong                                   0/1     1            0           11s\n",
      "dashboard-kubernetes-dashboard-api               0/1     1            0           11s\n",
      "dashboard-kubernetes-dashboard-auth              0/1     1            0           11s\n",
      "dashboard-kubernetes-dashboard-metrics-scraper   0/1     1            0           11s\n",
      "dashboard-kubernetes-dashboard-web               0/1     1            0           11s\n"
     ]
    }
   ],
   "source": [
    "kubectl get deployment -n monitoring"
   ]
  },
  {
   "cell_type": "code",
   "execution_count": 9,
   "id": "314682d8-0b35-4850-b712-9b19aee445b3",
   "metadata": {},
   "outputs": [
    {
     "name": "stdout",
     "output_type": "stream",
     "text": [
      "NAME                                             SECRETS   AGE\n",
      "dashboard-kong                                   0         11s\n",
      "dashboard-kubernetes-dashboard-api               0         11s\n",
      "dashboard-kubernetes-dashboard-metrics-scraper   0         11s\n",
      "dashboard-kubernetes-dashboard-web               0         11s\n",
      "default                                          0         3s\n"
     ]
    }
   ],
   "source": [
    "kubectl get sa -n monitoring"
   ]
  },
  {
   "cell_type": "markdown",
   "id": "7c2c5f18-d17a-4a8b-94c5-398915b84245",
   "metadata": {},
   "source": [
    "## Access the dashboard"
   ]
  },
  {
   "cell_type": "code",
   "execution_count": 10,
   "id": "b11e6dc7-140c-40d0-8c81-0d881c04fedf",
   "metadata": {},
   "outputs": [
    {
     "name": "stdout",
     "output_type": "stream",
     "text": [
      "clusterrolebinding.rbac.authorization.k8s.io/dashboard-kubernetes-dashboard created\n"
     ]
    }
   ],
   "source": [
    "kubectl -n monitoring create clusterrolebinding dashboard-kubernetes-dashboard --clusterrole=cluster-admin --serviceaccount=monitoring:default"
   ]
  },
  {
   "cell_type": "code",
   "execution_count": 11,
   "id": "8199b8da-4ba5-44f9-a380-5664c8fb953e",
   "metadata": {},
   "outputs": [],
   "source": [
    "# kubectl -n monitoring port-forward svc/dashboard-kong-proxy 8443:443"
   ]
  },
  {
   "cell_type": "code",
   "execution_count": 12,
   "id": "310d76d3-c49b-478f-9a44-cb71b4ce0bff",
   "metadata": {},
   "outputs": [
    {
     "name": "stdout",
     "output_type": "stream",
     "text": [
      "eyJhbGciOiJSUzI1NiIsImtpZCI6IkdSS0ZBNk9PZlRSS0d5NFpjaUhHay02QlZ4VVhSd0gyS0w0YnRORFdaSFUifQ.eyJhdWQiOlsiaHR0cHM6Ly9rdWJlcm5ldGVzLmRlZmF1bHQuc3ZjLmNsdXN0ZXIubG9jYWwiXSwiZXhwIjoxNzIxNTYxMzAxLCJpYXQiOjE3MjE1NTc3MDEsImlzcyI6Imh0dHBzOi8va3ViZXJuZXRlcy5kZWZhdWx0LnN2Yy5jbHVzdGVyLmxvY2FsIiwianRpIjoiNDViMGQxYzctZjMzYy00MjgxLWE3ODctYmI4NzdiNTBkZmM5Iiwia3ViZXJuZXRlcy5pbyI6eyJuYW1lc3BhY2UiOiJtb25pdG9yaW5nIiwic2VydmljZWFjY291bnQiOnsibmFtZSI6ImRlZmF1bHQiLCJ1aWQiOiI1OGEzMDEzNi1jZDIyLTQ4ZjgtYTZmYS1iMzMzNjJhM2Q2OWUifX0sIm5iZiI6MTcyMTU1NzcwMSwic3ViIjoic3lzdGVtOnNlcnZpY2VhY2NvdW50Om1vbml0b3Jpbmc6ZGVmYXVsdCJ9.XLoicwlk_BdIbmPEieHaGfFXHsaqLDRSvLl6xm68cIft3hIF9xpt8xm_Q5qnSka3O3UyYZpdT_HHgN19JsyMSuot2NHf3I7EZ8UL85qYZUfEjjihUknhpXkDxeZbnNpx8uYFKT8Gf8L7Mc0xsTV4RoMCuWpDWGjXfrIioJljBvbeYraHsIyHeo3zDJGfZ1767c1Uf-lF1luXm5b009pddoJu3PAL6I3oyp_9RthUHWo-jkVu_9bzK0YOMP-CrNTPe5gT2JAaU3EfhFJzUOKWK3KAsDAENFSGHAH8avN4jAW3cr6RrmmjeBh-g5nbHr2oynqKIEsSLsP4Rj6y09tSlw\n"
     ]
    }
   ],
   "source": [
    "kubectl -n monitoring create token default"
   ]
  },
  {
   "cell_type": "markdown",
   "id": "9e6d907a-0904-48d7-a1ff-5151ab8e6992",
   "metadata": {},
   "source": [
    "## Upgrade the dashboard using custom values\n",
    "\n",
    "`dashboard.yaml` enables metrics on the dashboard (e.g. CPU and memory usage)"
   ]
  },
  {
   "cell_type": "code",
   "execution_count": 13,
   "id": "d8dd5d11-0b9f-44c7-a01b-96c22f2d0714",
   "metadata": {},
   "outputs": [
    {
     "name": "stdout",
     "output_type": "stream",
     "text": [
      "Release \"dashboard\" has been upgraded. Happy Helming!\n",
      "NAME: dashboard\n",
      "LAST DEPLOYED: Sun Jul 21 11:28:22 2024\n",
      "NAMESPACE: monitoring\n",
      "STATUS: deployed\n",
      "REVISION: 2\n",
      "TEST SUITE: None\n",
      "NOTES:\n",
      "*************************************************************************************************\n",
      "*** PLEASE BE PATIENT: Kubernetes Dashboard may need a few minutes to get up and become ready ***\n",
      "*************************************************************************************************\n",
      "\n",
      "Congratulations! You have just installed Kubernetes Dashboard in your cluster.\n",
      "\n",
      "To access Dashboard run:\n",
      "  kubectl -n kubernetes-dashboard port-forward svc/kubernetes-dashboard-kong-proxy 8443:443\n",
      "\n",
      "NOTE: In case port-forward command does not work, make sure that kong service name is correct.\n",
      "      Check the services in Kubernetes Dashboard namespace using:\n",
      "        kubectl -n monitoring get svc\n",
      "\n",
      "Dashboard will be available at:\n",
      "  https://localhost:8443\n"
     ]
    }
   ],
   "source": [
    "# USING --wait VALIDATES THE NEW RELEASE, ALWAYS USE THIS\n",
    "helm upgrade dashboard kubernetes-dashboard/kubernetes-dashboard -n monitoring --wait --timeout 60s --values dashboard.yaml"
   ]
  },
  {
   "cell_type": "code",
   "execution_count": 14,
   "id": "a0da3ccb-e1fe-4c1b-b084-8465275b5582",
   "metadata": {},
   "outputs": [
    {
     "name": "stdout",
     "output_type": "stream",
     "text": [
      "NAME     \tNAMESPACE \tREVISION\tUPDATED                                \tSTATUS  \tCHART                     \tAPP VERSION\n",
      "dashboard\tmonitoring\t2       \t2024-07-21 11:28:22.239430246 +0100 BST\tdeployed\tkubernetes-dashboard-7.5.0\t           \n"
     ]
    }
   ],
   "source": [
    "helm list -n monitoring"
   ]
  },
  {
   "cell_type": "code",
   "execution_count": 15,
   "id": "e3006752-c7b9-4057-9d79-119b1362097f",
   "metadata": {},
   "outputs": [
    {
     "name": "stdout",
     "output_type": "stream",
     "text": [
      "REVISION\tUPDATED                 \tSTATUS    \tCHART                     \tAPP VERSION\tDESCRIPTION     \n",
      "1       \tSun Jul 21 11:28:08 2024\tsuperseded\tkubernetes-dashboard-7.5.0\t           \tInstall complete\n",
      "2       \tSun Jul 21 11:28:22 2024\tdeployed  \tkubernetes-dashboard-7.5.0\t           \tUpgrade complete\n"
     ]
    }
   ],
   "source": [
    "helm history dashboard -n monitoring"
   ]
  },
  {
   "cell_type": "markdown",
   "id": "cc797012-5315-48bb-b2d5-cce14a7cd3ed",
   "metadata": {},
   "source": [
    "## Deploy and rollback a bad configuration"
   ]
  },
  {
   "cell_type": "code",
   "execution_count": 16,
   "id": "ba2976b8-f6cd-4ecf-87e3-4724c1fbe186",
   "metadata": {},
   "outputs": [
    {
     "name": "stdout",
     "output_type": "stream",
     "text": [
      "Error: UPGRADE FAILED: context deadline exceeded\n"
     ]
    },
    {
     "ename": "",
     "evalue": "1",
     "output_type": "error",
     "traceback": []
    }
   ],
   "source": [
    "# USING --wait VALIDATES THE NEW RELEASE, ALWAYS USE THIS\n",
    "helm upgrade dashboard kubernetes-dashboard/kubernetes-dashboard -n monitoring --wait --timeout 60s --values error.yaml"
   ]
  },
  {
   "cell_type": "code",
   "execution_count": 17,
   "id": "0e50e0ad-1e3f-4f46-81da-b44d64759c4f",
   "metadata": {},
   "outputs": [
    {
     "name": "stdout",
     "output_type": "stream",
     "text": [
      "NAME     \tNAMESPACE \tREVISION\tUPDATED                                \tSTATUS\tCHART                     \tAPP VERSION\n",
      "dashboard\tmonitoring\t3       \t2024-07-21 11:29:07.516189652 +0100 BST\tfailed\tkubernetes-dashboard-7.5.0\t           \n"
     ]
    }
   ],
   "source": [
    "helm list -n monitoring"
   ]
  },
  {
   "cell_type": "code",
   "execution_count": 18,
   "id": "4502617a-4c43-4663-b3a2-95ac048cccb3",
   "metadata": {},
   "outputs": [
    {
     "name": "stdout",
     "output_type": "stream",
     "text": [
      "REVISION\tUPDATED                 \tSTATUS    \tCHART                     \tAPP VERSION\tDESCRIPTION                                          \n",
      "1       \tSun Jul 21 11:28:08 2024\tsuperseded\tkubernetes-dashboard-7.5.0\t           \tInstall complete                                     \n",
      "2       \tSun Jul 21 11:28:22 2024\tdeployed  \tkubernetes-dashboard-7.5.0\t           \tUpgrade complete                                     \n",
      "3       \tSun Jul 21 11:29:07 2024\tfailed    \tkubernetes-dashboard-7.5.0\t           \tUpgrade \"dashboard\" failed: context deadline exceeded\n"
     ]
    }
   ],
   "source": [
    "helm history dashboard -n monitoring"
   ]
  },
  {
   "cell_type": "code",
   "execution_count": 19,
   "id": "ad208a46-11c3-48b4-b99a-fe10ac0cc9c0",
   "metadata": {},
   "outputs": [
    {
     "name": "stdout",
     "output_type": "stream",
     "text": [
      "Rollback was a success! Happy Helming!\n"
     ]
    }
   ],
   "source": [
    "helm rollback dashboard 2 -n monitoring --wait --timeout 60s"
   ]
  },
  {
   "cell_type": "code",
   "execution_count": 20,
   "id": "3d37ae0a-eca6-4a9c-bd22-0c308a4b97b3",
   "metadata": {},
   "outputs": [
    {
     "name": "stdout",
     "output_type": "stream",
     "text": [
      "REVISION\tUPDATED                 \tSTATUS    \tCHART                     \tAPP VERSION\tDESCRIPTION                                          \n",
      "1       \tSun Jul 21 11:28:08 2024\tsuperseded\tkubernetes-dashboard-7.5.0\t           \tInstall complete                                     \n",
      "2       \tSun Jul 21 11:28:22 2024\tsuperseded\tkubernetes-dashboard-7.5.0\t           \tUpgrade complete                                     \n",
      "3       \tSun Jul 21 11:29:07 2024\tfailed    \tkubernetes-dashboard-7.5.0\t           \tUpgrade \"dashboard\" failed: context deadline exceeded\n",
      "4       \tSun Jul 21 11:31:12 2024\tdeployed  \tkubernetes-dashboard-7.5.0\t           \tRollback to 2                                        \n"
     ]
    }
   ],
   "source": [
    "helm history dashboard -n monitoring"
   ]
  },
  {
   "cell_type": "markdown",
   "id": "fe914eca-f001-492f-90bd-871630265c6b",
   "metadata": {},
   "source": [
    "## Uninstall and restore the dashboard"
   ]
  },
  {
   "cell_type": "code",
   "execution_count": 21,
   "id": "721d58c2-04bc-4484-8e57-67f90b8958fd",
   "metadata": {},
   "outputs": [
    {
     "name": "stdout",
     "output_type": "stream",
     "text": [
      "release \"dashboard\" uninstalled\n"
     ]
    }
   ],
   "source": [
    "helm uninstall dashboard -n monitoring --keep-history"
   ]
  },
  {
   "cell_type": "code",
   "execution_count": 22,
   "id": "91dfc274-f052-4a5b-b4ed-a2a3a12178b9",
   "metadata": {},
   "outputs": [
    {
     "name": "stdout",
     "output_type": "stream",
     "text": [
      "NAME                                  READY   STATUS        RESTARTS   AGE\n",
      "pod/dashboard-kong-68687498db-6z74f   1/1     Terminating   0          3m5s\n"
     ]
    }
   ],
   "source": [
    "sleep 10\n",
    "kubectl get all -n monitoring"
   ]
  },
  {
   "cell_type": "code",
   "execution_count": 23,
   "id": "847f0a2a-a087-43ee-8e30-52678db7606c",
   "metadata": {},
   "outputs": [
    {
     "name": "stdout",
     "output_type": "stream",
     "text": [
      "Rollback was a success! Happy Helming!\n"
     ]
    }
   ],
   "source": [
    "helm rollback dashboard 2 -n monitoring --wait --timeout 60s"
   ]
  },
  {
   "cell_type": "code",
   "execution_count": 24,
   "id": "dee3ab1e-3969-41be-bea2-c05289913cbe",
   "metadata": {},
   "outputs": [
    {
     "name": "stdout",
     "output_type": "stream",
     "text": [
      "NAME                                                                  READY   STATUS    RESTARTS   AGE\n",
      "pod/dashboard-kong-68687498db-9lqc8                                   1/1     Running   0          32s\n",
      "pod/dashboard-kubernetes-dashboard-api-c44b5f55b-l88m4                1/1     Running   0          32s\n",
      "pod/dashboard-kubernetes-dashboard-auth-6569f9b59-c7vpl               1/1     Running   0          32s\n",
      "pod/dashboard-kubernetes-dashboard-metrics-scraper-689c7b5b74-jd4w8   1/1     Running   0          32s\n",
      "pod/dashboard-kubernetes-dashboard-web-548b8b8859-fvmrb               1/1     Running   0          32s\n",
      "pod/dashboard-metrics-server-c76565f8c-2f7gv                          1/1     Running   0          32s\n",
      "\n",
      "NAME                                                     TYPE        CLUSTER-IP      EXTERNAL-IP   PORT(S)                         AGE\n",
      "service/dashboard-kong-manager                           NodePort    10.96.97.131    <none>        8002:30278/TCP,8445:31657/TCP   32s\n",
      "service/dashboard-kong-proxy                             ClusterIP   10.96.51.119    <none>        443/TCP                         32s\n",
      "service/dashboard-kubernetes-dashboard-api               ClusterIP   10.96.221.246   <none>        8000/TCP                        32s\n",
      "service/dashboard-kubernetes-dashboard-auth              ClusterIP   10.96.137.42    <none>        8000/TCP                        32s\n",
      "service/dashboard-kubernetes-dashboard-metrics-scraper   ClusterIP   10.96.6.71      <none>        8000/TCP                        32s\n",
      "service/dashboard-kubernetes-dashboard-web               ClusterIP   10.96.229.236   <none>        8000/TCP                        32s\n",
      "service/dashboard-metrics-server                         ClusterIP   10.96.87.48     <none>        443/TCP                         32s\n",
      "\n",
      "NAME                                                             READY   UP-TO-DATE   AVAILABLE   AGE\n",
      "deployment.apps/dashboard-kong                                   1/1     1            1           32s\n",
      "deployment.apps/dashboard-kubernetes-dashboard-api               1/1     1            1           32s\n",
      "deployment.apps/dashboard-kubernetes-dashboard-auth              1/1     1            1           32s\n",
      "deployment.apps/dashboard-kubernetes-dashboard-metrics-scraper   1/1     1            1           32s\n",
      "deployment.apps/dashboard-kubernetes-dashboard-web               1/1     1            1           32s\n",
      "deployment.apps/dashboard-metrics-server                         1/1     1            1           32s\n",
      "\n",
      "NAME                                                                        DESIRED   CURRENT   READY   AGE\n",
      "replicaset.apps/dashboard-kong-68687498db                                   1         1         1       32s\n",
      "replicaset.apps/dashboard-kubernetes-dashboard-api-c44b5f55b                1         1         1       32s\n",
      "replicaset.apps/dashboard-kubernetes-dashboard-auth-6569f9b59               1         1         1       32s\n",
      "replicaset.apps/dashboard-kubernetes-dashboard-metrics-scraper-689c7b5b74   1         1         1       32s\n",
      "replicaset.apps/dashboard-kubernetes-dashboard-web-548b8b8859               1         1         1       32s\n",
      "replicaset.apps/dashboard-metrics-server-c76565f8c                          1         1         1       32s\n"
     ]
    }
   ],
   "source": [
    "sleep 10\n",
    "kubectl get all -n monitoring"
   ]
  },
  {
   "cell_type": "code",
   "execution_count": 25,
   "id": "f293ceef-6390-493d-8a11-2d732ca8386c",
   "metadata": {},
   "outputs": [
    {
     "name": "stdout",
     "output_type": "stream",
     "text": [
      "REVISION\tUPDATED                 \tSTATUS     \tCHART                     \tAPP VERSION\tDESCRIPTION                                          \n",
      "1       \tSun Jul 21 11:28:08 2024\tsuperseded \tkubernetes-dashboard-7.5.0\t           \tInstall complete                                     \n",
      "2       \tSun Jul 21 11:28:22 2024\tsuperseded \tkubernetes-dashboard-7.5.0\t           \tUpgrade complete                                     \n",
      "3       \tSun Jul 21 11:29:07 2024\tfailed     \tkubernetes-dashboard-7.5.0\t           \tUpgrade \"dashboard\" failed: context deadline exceeded\n",
      "4       \tSun Jul 21 11:31:12 2024\tuninstalled\tkubernetes-dashboard-7.5.0\t           \tUninstallation complete                              \n",
      "5       \tSun Jul 21 11:31:24 2024\tdeployed   \tkubernetes-dashboard-7.5.0\t           \tRollback to 2                                        \n"
     ]
    }
   ],
   "source": [
    "helm history dashboard -n monitoring"
   ]
  },
  {
   "cell_type": "code",
   "execution_count": null,
   "id": "7b728ac8-0f27-4dbe-8adb-d533ab4f06b3",
   "metadata": {},
   "outputs": [],
   "source": []
  }
 ],
 "metadata": {
  "kernelspec": {
   "display_name": "Bash",
   "language": "bash",
   "name": "bash"
  },
  "language_info": {
   "codemirror_mode": "shell",
   "file_extension": ".sh",
   "mimetype": "text/x-sh",
   "name": "bash"
  }
 },
 "nbformat": 4,
 "nbformat_minor": 5
}

{
 "cells": [
  {
   "cell_type": "markdown",
   "id": "2bda5d87-4157-4716-8c3a-0324f172b378",
   "metadata": {},
   "source": [
    "## Docker and Kubernetes\n",
    "\n",
    "Docker Desktop is installed on the Windows side, and includes Kubernetes (extension must be enabled)."
   ]
  },
  {
   "cell_type": "code",
   "execution_count": 1,
   "id": "3fff19e7-28f9-4f62-b070-5ffc92a61515",
   "metadata": {},
   "outputs": [
    {
     "name": "stdout",
     "output_type": "stream",
     "text": [
      "/mnt/wsl/docker-desktop/cli-tools/usr/bin/docker\n"
     ]
    }
   ],
   "source": [
    "realpath `which docker`"
   ]
  },
  {
   "cell_type": "code",
   "execution_count": 2,
   "id": "bbbab61a-3de4-47bd-88fd-d4d9ff4661bd",
   "metadata": {},
   "outputs": [
    {
     "name": "stdout",
     "output_type": "stream",
     "text": [
      "/mnt/wsl/docker-desktop/cli-tools/usr/local/bin/kubectl\n"
     ]
    }
   ],
   "source": [
    "realpath `which kubectl`"
   ]
  },
  {
   "cell_type": "markdown",
   "id": "7fef0d65-7aa6-4878-bfe9-2a216683d057",
   "metadata": {},
   "source": [
    "## Helm is installed via snap"
   ]
  },
  {
   "cell_type": "code",
   "execution_count": 3,
   "id": "c897bb50-1849-4217-abf9-9db7ca634605",
   "metadata": {},
   "outputs": [
    {
     "name": "stdout",
     "output_type": "stream",
     "text": [
      "\u001b[01;31m\u001b[Khelm\u001b[m\u001b[K               3.15.3           418    latest/stable  snapcrafters*   classic\n"
     ]
    }
   ],
   "source": [
    "snap list | grep helm"
   ]
  },
  {
   "cell_type": "code",
   "execution_count": 4,
   "id": "eb2771f0-5785-416c-8b20-65b878758a09",
   "metadata": {},
   "outputs": [
    {
     "name": "stdout",
     "output_type": "stream",
     "text": [
      "/snap/bin/helm\n"
     ]
    }
   ],
   "source": [
    "which helm"
   ]
  },
  {
   "cell_type": "markdown",
   "id": "943ee3e6-8681-45eb-a3e7-f73660a4e2d5",
   "metadata": {},
   "source": [
    "## Kind is installed as a go package\n",
    "\n",
    "```bash\n",
    "go install sigs.k8s.io/kind@v0.23.0\n",
    "```\n",
    "\n",
    "Ensure your go executables are on `$PATH`."
   ]
  },
  {
   "cell_type": "code",
   "execution_count": 5,
   "id": "f8a0b5b7-01a3-46b5-9eac-ff363260635d",
   "metadata": {},
   "outputs": [
    {
     "name": "stdout",
     "output_type": "stream",
     "text": [
      "\u001b[01;31m\u001b[Kgo\u001b[m\u001b[K                 1.22.5           10660  latest/stable  canonical**     classic\n"
     ]
    }
   ],
   "source": [
    "snap list | grep go"
   ]
  },
  {
   "cell_type": "code",
   "execution_count": 6,
   "id": "1ac2b827-584e-4226-ae77-60113bbd1653",
   "metadata": {},
   "outputs": [
    {
     "name": "stdout",
     "output_type": "stream",
     "text": [
      "/home/yinchi/\u001b[01;31m\u001b[Kgo/bin\u001b[m\u001b[K\n",
      "/home/yinchi/\u001b[01;31m\u001b[Kgo/bin\u001b[m\u001b[K\n"
     ]
    }
   ],
   "source": [
    "echo $PATH | tr ':' '\\n' | grep 'go/bin'"
   ]
  },
  {
   "cell_type": "code",
   "execution_count": 7,
   "id": "342043b5-9bd5-48b2-9c6b-a4941573dad6",
   "metadata": {},
   "outputs": [
    {
     "name": "stdout",
     "output_type": "stream",
     "text": [
      "/home/yinchi/go/bin/kind\n"
     ]
    }
   ],
   "source": [
    "which kind"
   ]
  },
  {
   "cell_type": "code",
   "execution_count": null,
   "id": "a943c514-cd98-4f1e-b963-2c14fd37a635",
   "metadata": {},
   "outputs": [],
   "source": []
  }
 ],
 "metadata": {
  "kernelspec": {
   "display_name": "Bash",
   "language": "bash",
   "name": "bash"
  },
  "language_info": {
   "codemirror_mode": "shell",
   "file_extension": ".sh",
   "mimetype": "text/x-sh",
   "name": "bash"
  }
 },
 "nbformat": 4,
 "nbformat_minor": 5
}
